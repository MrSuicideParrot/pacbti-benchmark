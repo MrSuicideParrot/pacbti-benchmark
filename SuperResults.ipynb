{
 "cells": [
  {
   "cell_type": "code",
   "execution_count": 14,
   "id": "eecadb3a-a4a2-4187-93fb-1f880df59b20",
   "metadata": {},
   "outputs": [],
   "source": [
    "from pandas import read_csv\n",
    "from glob import glob\n",
    "import subprocess\n",
    "import csv\n",
    "import os\n",
    "\n",
    "revision = '3'\n",
    "\n",
    "csv_files_normal = glob('results-clang-'+ revision +'/normal/*.csv')\n"
   ]
  },
  {
   "cell_type": "code",
   "execution_count": 10,
   "id": "80529c06-073b-489c-8626-54e73a2a34f2",
   "metadata": {},
   "outputs": [],
   "source": [
    "def read_timespent_amp(file_name) -> [int]:\n",
    "    data = read_csv(file_name)\n",
    "    init_timestamp = 0\n",
    "    end_timstamp = 0\n",
    "    counter_amp = 0\n",
    "\n",
    "    for i in data.values:\n",
    "        if i[2]:\n",
    "            if init_timestamp == 0:\n",
    "                init_timestamp = i[0]\n",
    "            counter_amp += i[1]\n",
    "            end_timstamp =  i[0]\n",
    "        elif init_timestamp != 0:\n",
    "            break\n",
    "    assert(end_timstamp != 0)\n",
    "    assert(init_timestamp != 0)\n",
    "\n",
    "    return [ end_timstamp - init_timestamp, counter_amp]"
   ]
  },
  {
   "cell_type": "code",
   "execution_count": null,
   "id": "61e908f3-1405-4486-b533-471b51f1d57a",
   "metadata": {},
   "outputs": [],
   "source": []
  },
  {
   "cell_type": "code",
   "execution_count": 11,
   "id": "20079c6b-82b2-4769-83be-1daad84f5b7d",
   "metadata": {},
   "outputs": [],
   "source": [
    "def calculate_differece(normal, pacbti):\n",
    "    return [pacbti[0]/normal[0], pacbti[1]/normal[1], pacbti[2]/normal[2]]"
   ]
  },
  {
   "cell_type": "code",
   "execution_count": 15,
   "id": "026504aa-984a-4be4-a089-c63f739d17ef",
   "metadata": {},
   "outputs": [],
   "source": [
    "def process_challenge(file):\n",
    "    data_name = file.split('/')[2]\n",
    "    benchmark_name = data_name.split('.')[0]\n",
    "    print(benchmark_name)\n",
    "\n",
    "    normal_bench_results = read_timespent_amp(file)\n",
    "    pacbti_bench_results = read_timespent_amp(f\"results-clang-{revision}/pacbti/{benchmark_name}.csv\")\n",
    "\n",
    "    #normal_bench_results += [os.path.getsize(f\"results-clang-{revision}/normal/bin/{benchmark_name}.elf\")]\n",
    "    #pacbti_bench_results += [os.path.getsize(f\"results-clang-{revision}/pacbti/bin/{benchmark_name}.elf\")]\n",
    "\n",
    "    normal_bench_results += [ int(subprocess.check_output([\"size\",f\"results-clang-{revision}/normal/bin/{benchmark_name}.elf\"]).split()[6])]\n",
    "    pacbti_bench_results += [ int(subprocess.check_output([\"size\",f\"results-clang-{revision}/pacbti/bin/{benchmark_name}.elf\"]).split()[6])]\n",
    "    \n",
    "    return [benchmark_name] + normal_bench_results + pacbti_bench_results + calculate_differece(normal_bench_results, pacbti_bench_results)"
   ]
  },
  {
   "cell_type": "code",
   "execution_count": 16,
   "id": "9fa5ccd2-bf2d-4521-8970-461dc6552a24",
   "metadata": {},
   "outputs": [
    {
     "name": "stdout",
     "output_type": "stream",
     "text": [
      "BUBBLESORT\n",
      "CTL_STRING\n",
      "CUBIC\n",
      "DIJKSTRA\n",
      "EDN\n",
      "FASTA\n",
      "FIR\n",
      "HUFFBENCH\n",
      "LEVENSHTEIN\n",
      "MATMULT_INT\n",
      "NBODY\n",
      "NDES\n",
      "NETTLE_AES\n",
      "QRDUINO\n",
      "RECURSION\n",
      "RIJNDAEL\n",
      "SGLIB_DLLIST\n",
      "SGLIB_LISTINSERTSORT\n",
      "SGLIB_LISTSORT\n",
      "SGLIB_QUEUE\n",
      "SGLIB_RBTREE\n",
      "SLRE\n",
      "SQRT\n",
      "STB_PERLIN\n",
      "ST\n",
      "WHETSTONE\n"
     ]
    }
   ],
   "source": [
    "with open('results.csv', 'w', encoding='UTF8') as f:\n",
    "    writer = csv.writer(f)\n",
    "\n",
    "    for i in  csv_files_normal:\n",
    "        writer.writerow(process_challenge(i))"
   ]
  },
  {
   "cell_type": "code",
   "execution_count": 21,
   "id": "86238087-eee6-4dde-95ee-5b20b8ffe4ee",
   "metadata": {},
   "outputs": [],
   "source": [
    "def test_specific(name):\n",
    "    print(process_challenge(f\"results-clang-{revision}/normal/{name}.csv\"))\n",
    "    "
   ]
  },
  {
   "cell_type": "code",
   "execution_count": 7,
   "id": "7cea6326-aa48-4103-a090-4590fbe223b1",
   "metadata": {},
   "outputs": [],
   "source": [
    "def testspecific_twofiles(normal, pacbti):\n",
    "    normal_bench_results = read_timespent_amp(normal)\n",
    "    pacbti_bench_results = read_timespent_amp(pacbti)\n",
    "\n",
    "    print(f\"{normal_bench_results[0]} - {pacbti_bench_results[0]} , {pacbti_bench_results[0]/normal_bench_results[0]}\")\n",
    "    "
   ]
  },
  {
   "cell_type": "code",
   "execution_count": 30,
   "id": "ab5c8249-18f1-4402-811d-da7e67cc3f2a",
   "metadata": {},
   "outputs": [
    {
     "name": "stdout",
     "output_type": "stream",
     "text": [
      "SGLIB_LISTSORT_2\n",
      "['SGLIB_LISTSORT_2', np.float64(114.30999999999995), np.float64(1497897576.4770637), 507896, np.float64(84.82999999999993), np.float64(1100328491.035949), 508140, np.float64(0.7421048027294197), np.float64(0.7345819289085401), 1.0004804133129617]\n"
     ]
    }
   ],
   "source": [
    "test_specific(\"SGLIB_LISTSORT_2\")"
   ]
  },
  {
   "cell_type": "code",
   "execution_count": 20,
   "id": "27ba5daf-94ee-4115-b339-3c99b36fddf6",
   "metadata": {},
   "outputs": [
    {
     "name": "stdout",
     "output_type": "stream",
     "text": [
      "114.31000000000006 - 84.83000000000004 , 0.7421048027294199\n"
     ]
    }
   ],
   "source": [
    "testspecific_twofiles(\"results-clang-5/normal/SGLIB_LISTSORT.csv\", \"results-clang-5/pacbti/SGLIB_LISTSORT.csv\")"
   ]
  },
  {
   "cell_type": "code",
   "execution_count": 6,
   "id": "72d69d09-196e-4b79-830d-dcdf5e6d5814",
   "metadata": {},
   "outputs": [
    {
     "data": {
      "text/plain": [
       "[np.float64(7013.369999999999), np.float64(109570964456.31232)]"
      ]
     },
     "execution_count": 6,
     "metadata": {},
     "output_type": "execute_result"
    }
   ],
   "source": [
    "read_timespent_amp('sqrt_changed.csv')"
   ]
  },
  {
   "cell_type": "code",
   "execution_count": null,
   "id": "5945cc0f-7d14-44be-891b-f9e968a94eab",
   "metadata": {},
   "outputs": [],
   "source": []
  }
 ],
 "metadata": {
  "kernelspec": {
   "display_name": "Python 3 (ipykernel)",
   "language": "python",
   "name": "python3"
  },
  "language_info": {
   "codemirror_mode": {
    "name": "ipython",
    "version": 3
   },
   "file_extension": ".py",
   "mimetype": "text/x-python",
   "name": "python",
   "nbconvert_exporter": "python",
   "pygments_lexer": "ipython3",
   "version": "3.12.6"
  }
 },
 "nbformat": 4,
 "nbformat_minor": 5
}
