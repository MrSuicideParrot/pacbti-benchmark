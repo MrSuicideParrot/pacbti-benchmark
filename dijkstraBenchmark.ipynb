{
 "cells": [
  {
   "cell_type": "code",
   "execution_count": 1,
   "id": "067d612c-e1bd-41ed-9acc-0931dd584066",
   "metadata": {},
   "outputs": [],
   "source": [
    "from pandas import read_csv\n",
    "from glob import glob"
   ]
  },
  {
   "cell_type": "code",
   "execution_count": 2,
   "id": "2daf3c7d-0120-4ae3-b81e-e950ab4f8164",
   "metadata": {},
   "outputs": [],
   "source": [
    "csv_files = glob('results-clang/dijkstra/pacbti-*')\n",
    "\n",
    "statistic_disabled = []\n",
    "\n",
    "for file in csv_files:\n",
    "    data = read_csv(file)\n",
    "    init_timestamp = 0\n",
    "    end_timstamp = 0\n",
    "    counter_amp = 0\n",
    "\n",
    "    for i in data.values:\n",
    "        if i[2]:\n",
    "            if init_timestamp == 0:\n",
    "                init_timestamp = i[0]\n",
    "            counter_amp += i[1]\n",
    "            end_timstamp =  i[0]\n",
    "        elif init_timestamp != 0:\n",
    "            break\n",
    "    assert(end_timstamp != 0)\n",
    "    assert(init_timestamp != 0)\n",
    "    \n",
    "    statistic_disabled.append([end_timstamp-init_timestamp, counter_amp])     \n"
   ]
  },
  {
   "cell_type": "code",
   "execution_count": 3,
   "id": "a014cbd3-3ffd-4896-ba7e-6a6ef7659b8e",
   "metadata": {
    "scrolled": true
   },
   "outputs": [
    {
     "name": "stdout",
     "output_type": "stream",
     "text": [
      "11.659999999999968 ms\n",
      "108534572.53460057 ma\n"
     ]
    }
   ],
   "source": [
    "time_pacbti_disabled = 0\n",
    "amperage_pacbti_disabled = 0\n",
    "for i in statistic_disabled:\n",
    "    time_pacbti_disabled += i[0]\n",
    "    amperage_pacbti_disabled += i[1]\n",
    "\n",
    "time_pacbti_disabled = time_pacbti_disabled/ len(statistic_disabled)\n",
    "print(str(time_pacbti_disabled) + \" ms\")\n",
    "amperage_pacbti_disabled = amperage_pacbti_disabled / len(statistic_disabled)\n",
    "print(str(amperage_pacbti_disabled) + \" ma\")"
   ]
  },
  {
   "cell_type": "code",
   "execution_count": 4,
   "id": "3f44d813-0ccd-4c1a-8e6b-cd0d103e0694",
   "metadata": {},
   "outputs": [],
   "source": [
    "csv_files = glob('results-clang/dijkstra/silhouette-*')\n",
    "\n",
    "statistics_enabled= []\n",
    "\n",
    "for file in csv_files:\n",
    "    data = read_csv(file)\n",
    "    init_timestamp = 0\n",
    "    end_timstamp = 0\n",
    "    counter_amp = 0\n",
    "\n",
    "    for i in data.values:\n",
    "        if i[2]:\n",
    "            if init_timestamp == 0:\n",
    "                init_timestamp = i[0]\n",
    "            counter_amp += i[1]\n",
    "            end_timstamp =  i[0]\n",
    "        elif init_timestamp != 0:\n",
    "            break\n",
    "    assert(end_timstamp != 0)\n",
    "    assert(init_timestamp != 0)\n",
    "    \n",
    "    statistics_enabled.append([end_timstamp-init_timestamp, counter_amp])     \n"
   ]
  },
  {
   "cell_type": "code",
   "execution_count": 5,
   "id": "6fc71098-bc0b-4af7-950a-5fa438997f36",
   "metadata": {},
   "outputs": [
    {
     "name": "stdout",
     "output_type": "stream",
     "text": [
      "11.652000000000044 ms\n",
      "108549500.74800053 ma\n"
     ]
    }
   ],
   "source": [
    "time_pacbti_enabled = 0\n",
    "amperage_pacbti_enabled = 0\n",
    "for i in statistics_enabled:\n",
    "    time_pacbti_enabled += i[0]\n",
    "    amperage_pacbti_enabled += i[1]\n",
    "\n",
    "time_pacbti_enabled = time_pacbti_enabled/ len(statistics_enabled)\n",
    "print(str(time_pacbti_enabled) + \" ms\")\n",
    "amperage_pacbti_enabled = amperage_pacbti_enabled / len(statistics_enabled)\n",
    "print(str(amperage_pacbti_enabled) + \" ma\")"
   ]
  },
  {
   "cell_type": "code",
   "execution_count": 9,
   "id": "19b95ed1-2d15-4ac6-9a5c-973250f22fe6",
   "metadata": {},
   "outputs": [
    {
     "name": "stdout",
     "output_type": "stream",
     "text": [
      "Increase of execution time : 0.9992984917572729 %\n",
      "Increase of amperage: 0.9983701876344596 %\n"
     ]
    }
   ],
   "source": [
    "print(f\"Increase of execution time : {time_pacbti_enabled/time_pacbti_disabled} %\")\n",
    "      \n",
    "print(f\"Increase of amperage: {amperage_pacbti_enabled/amperage_pacbti_disabled } %\")"
   ]
  },
  {
   "cell_type": "code",
   "execution_count": null,
   "id": "2d3ab88d-986b-4317-865b-290f7a80c399",
   "metadata": {},
   "outputs": [],
   "source": []
  },
  {
   "cell_type": "code",
   "execution_count": null,
   "id": "343a39c3-187b-4412-b3ba-630fac33e740",
   "metadata": {},
   "outputs": [],
   "source": []
  },
  {
   "cell_type": "code",
   "execution_count": null,
   "id": "90f2231c-ec84-4b1c-b5dc-89495473bab8",
   "metadata": {},
   "outputs": [],
   "source": []
  }
 ],
 "metadata": {
  "kernelspec": {
   "display_name": "Python 3 (ipykernel)",
   "language": "python",
   "name": "python3"
  },
  "language_info": {
   "codemirror_mode": {
    "name": "ipython",
    "version": 3
   },
   "file_extension": ".py",
   "mimetype": "text/x-python",
   "name": "python",
   "nbconvert_exporter": "python",
   "pygments_lexer": "ipython3",
   "version": "3.12.6"
  }
 },
 "nbformat": 4,
 "nbformat_minor": 5
}
